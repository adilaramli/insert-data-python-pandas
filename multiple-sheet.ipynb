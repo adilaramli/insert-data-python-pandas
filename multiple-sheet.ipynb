{
 "cells": [
  {
   "cell_type": "code",
   "execution_count": null,
   "metadata": {},
   "outputs": [],
   "source": [
    "import pandas as pd\n",
    "from sqlalchemy import create_engine\n",
    "\n",
    "df_sheet2 = pd.read_excel('C:/Users/adila/Documents/adila learns python/Report THD 2022 1.xlsx', sheet_name= 'Sheet2')\n",
    "\n",
    "engine = create_engine ('mysql://root@localhost/tm')\n",
    "df_sheet2.to_sql('sheet2', con=engine)"
   ]
  },
  {
   "cell_type": "code",
   "execution_count": null,
   "metadata": {},
   "outputs": [],
   "source": [
    "import pandas as pd\n",
    "from sqlalchemy import create_engine\n",
    "\n",
    "df_cellwk23 = pd.read_excel('C:/Users/adila/Documents/adila learns python/Report THD 2022 1.xlsx', sheet_name= ' Cell wk 23')\n",
    "\n",
    "engine = create_engine ('mysql://root@localhost/tm')\n",
    "df_cellwk23.to_sql('cellWk23', con=engine)"
   ]
  },
  {
   "cell_type": "code",
   "execution_count": 21,
   "metadata": {},
   "outputs": [
    {
     "data": {
      "text/plain": [
       "44481"
      ]
     },
     "execution_count": 21,
     "metadata": {},
     "output_type": "execute_result"
    }
   ],
   "source": [
    "import pandas as pd\n",
    "from sqlalchemy import create_engine\n",
    "\n",
    "df_20192020 = pd.read_excel('C:/Users/adila/Documents/adila learns python/Report THD 2022 1.xlsx', sheet_name= '2019 2020')\n",
    "\n",
    "engine = create_engine ('mysql://root@localhost/tm')\n",
    "df_20192020.to_sql('20192020', con=engine)"
   ]
  },
  {
   "cell_type": "code",
   "execution_count": null,
   "metadata": {},
   "outputs": [],
   "source": [
    "import pandas as pd\n",
    "from sqlalchemy import create_engine\n",
    "\n",
    "df_sheet1 = pd.read_excel('C:/Users/adila/Documents/adila learns python/Report THD 2022 1.xlsx', sheet_name= 'Sheet1')\n",
    "\n",
    "engine = create_engine ('mysql://root@localhost/tm')\n",
    "df_sheet1.to_sql('sheet1', con=engine)"
   ]
  },
  {
   "cell_type": "code",
   "execution_count": null,
   "metadata": {},
   "outputs": [],
   "source": [
    "import pandas as pd\n",
    "from sqlalchemy import create_engine\n",
    "\n",
    "df_3gelcom = pd.read_excel('C:/Users/adila/Documents/adila learns python/Report THD 2022 1.xlsx', sheet_name= '3G Celcom')\n",
    "\n",
    "engine = create_engine ('mysql://root@localhost/tm')\n",
    "df_3gCelcom.to_sql('3G_celcom', con=engine)"
   ]
  },
  {
   "cell_type": "code",
   "execution_count": null,
   "metadata": {},
   "outputs": [],
   "source": [
    "import pandas as pd\n",
    "from sqlalchemy import create_engine\n",
    "\n",
    "df_4gMOCN = pd.read_excel('C:/Users/adila/Documents/adila learns python/Report THD 2022 1.xlsx', sheet_name= '4G MOCN')\n",
    "\n",
    "engine = create_engine ('mysql://root@localhost/tm')\n",
    "df_4gMOCN.to_sql('4g_mocn', con=engine)"
   ]
  },
  {
   "cell_type": "code",
   "execution_count": null,
   "metadata": {},
   "outputs": [],
   "source": [
    "import pandas as pd\n",
    "from sqlalchemy import create_engine\n",
    "\n",
    "df_4gWebe = pd.read_excel('C:/Users/adila/Documents/adila learns python/Report THD 2022 1.xlsx', sheet_name= '4G Webe')\n",
    "\n",
    "engine = create_engine ('mysql://root@localhost/tm')\n",
    "df_4gWebe.to_sql('4G_webe', con=engine)"
   ]
  },
  {
   "cell_type": "code",
   "execution_count": null,
   "metadata": {},
   "outputs": [],
   "source": [
    "import pandas as pd\n",
    "from sqlalchemy import create_engine\n",
    "\n",
    "df_5gMOCN = pd.read_excel('C:/Users/adila/Documents/adila learns python/Report THD 2022 1.xlsx', sheet_name= '5G MOCN')\n",
    "\n",
    "engine = create_engine ('mysql://root@localhost/tm')\n",
    "df_5gMOCN.to_sql('5g_mocn', con=engine)"
   ]
  }
 ],
 "metadata": {
  "interpreter": {
   "hash": "65ac28aa42914ff34b9c8a9c8d9fd5515d216af727b78b0f6eb699e83af72a37"
  },
  "kernelspec": {
   "display_name": "Python 3.9.11 64-bit",
   "language": "python",
   "name": "python3"
  },
  "language_info": {
   "codemirror_mode": {
    "name": "ipython",
    "version": 3
   },
   "file_extension": ".py",
   "mimetype": "text/x-python",
   "name": "python",
   "nbconvert_exporter": "python",
   "pygments_lexer": "ipython3",
   "version": "3.9.11"
  },
  "orig_nbformat": 4
 },
 "nbformat": 4,
 "nbformat_minor": 2
}
